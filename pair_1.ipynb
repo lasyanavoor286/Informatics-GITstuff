{
 "cells": [
  {
   "cell_type": "code",
   "execution_count": 1,
   "id": "ab90b483-0b27-4511-8547-a90543a6272f",
   "metadata": {},
   "outputs": [
    {
     "name": "stdout",
     "output_type": "stream",
     "text": [
      "# conda environments:\n",
      "#\n",
      "base                  *  C:\\Users\\91814\\anaconda3\n",
      "                         C:\\Users\\91814\\miniconda3\\envs\\first\n",
      "\n"
     ]
    }
   ],
   "source": [
    "!conda env list"
   ]
  },
  {
   "cell_type": "code",
   "execution_count": null,
   "id": "670d4799-f36b-4f6f-b764-9bb699994a5b",
   "metadata": {},
   "outputs": [],
   "source": [
    "print ("
   ]
  }
 ],
 "metadata": {
  "kernelspec": {
   "display_name": "first",
   "language": "python",
   "name": "first"
  },
  "language_info": {
   "codemirror_mode": {
    "name": "ipython",
    "version": 3
   },
   "file_extension": ".py",
   "mimetype": "text/x-python",
   "name": "python",
   "nbconvert_exporter": "python",
   "pygments_lexer": "ipython3",
   "version": "3.11.5"
  }
 },
 "nbformat": 4,
 "nbformat_minor": 5
}
